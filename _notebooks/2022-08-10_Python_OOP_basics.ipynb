{
 "cells": [
  {
   "cell_type": "markdown",
   "metadata": {},
   "source": [
    "# Python OOP Concepts - 1\n",
    "\n",
    "> \"Learn Python OOP Concepts with examples\"\n",
    "- toc: true \n",
    "- badges: true\n",
    "- comments: false\n",
    "- categories: [jupyter]"
   ]
  },
  {
   "cell_type": "markdown",
   "metadata": {},
   "source": [
    "This is based on the wonderful tutorial by [Corey Schafer](https://coreyms.com/development/python/python-oop-tutorials-complete-series)\n",
    "\n",
    "This notebook demonstrates my understanding of the first lecture: "
   ]
  },
  {
   "cell_type": "code",
   "execution_count": null,
   "metadata": {},
   "outputs": [],
   "source": [
    "> youtube: https://www.youtube.com/watch?v=ZDa-Z5JzLYM&t=2s"
   ]
  },
  {
   "cell_type": "markdown",
   "metadata": {},
   "source": [
    "## Basic Class\n",
    "Below is the definition of a basic class called Radiant:"
   ]
  },
  {
   "cell_type": "code",
   "execution_count": 35,
   "metadata": {},
   "outputs": [],
   "source": [
    "class Radiant():\n",
    "    \"An empty class definition\"\n",
    "    pass\n",
    "\n",
    "radiant_1 = Radiant()\n",
    "radiant_1.first_name = \"Kaladin\"\n",
    "radiant_1.last_name = \"Stormblessed\""
   ]
  },
  {
   "cell_type": "markdown",
   "metadata": {},
   "source": [
    "Here we have a created an empty class called Radiant. Then we have created an instance of the class Radiant called radiant_1. Finally we have assigned the 'first_name' and 'last_name' attributes of radiant_1 with the strings \"Kaladin\" and \"Stormblessed\" respectively."
   ]
  },
  {
   "cell_type": "code",
   "execution_count": 36,
   "metadata": {},
   "outputs": [
    {
     "name": "stdout",
     "output_type": "stream",
     "text": [
      "Kaladin\n",
      "Stormblessed\n"
     ]
    }
   ],
   "source": [
    "print(radiant_1.first_name)\n",
    "print(radiant_1.last_name)"
   ]
  },
  {
   "cell_type": "markdown",
   "metadata": {},
   "source": [
    "Above, we can see that the 'first_name' and 'last_name' attributes of radiant_1 are now displayed as expected. Let us now create another instance of radiant called radiant_2 and assign the 'first_name' and 'last_name' attributes as \"Dalinar\" and \"Thorin\"."
   ]
  },
  {
   "cell_type": "code",
   "execution_count": 37,
   "metadata": {},
   "outputs": [],
   "source": [
    "radiant_2 = Radiant()\n",
    "radiant_2.first_name = \"Dalinar\"\n",
    "radiant_2.last_name = \"Thorin\""
   ]
  },
  {
   "cell_type": "code",
   "execution_count": 38,
   "metadata": {},
   "outputs": [
    {
     "name": "stdout",
     "output_type": "stream",
     "text": [
      "Dalinar\n",
      "Thorin\n"
     ]
    }
   ],
   "source": [
    "print(radiant_2.first_name)\n",
    "print(radiant_2.last_name)"
   ]
  },
  {
   "cell_type": "markdown",
   "metadata": {},
   "source": [
    "This is also working as expected. But we can see that there is a lot of repetition for creating each new instance of the class Radiant. To resolve this, we create a special method inside the Radiant class called a constructor."
   ]
  },
  {
   "cell_type": "markdown",
   "metadata": {},
   "source": [
    "## Class with Constructor"
   ]
  },
  {
   "cell_type": "code",
   "execution_count": 39,
   "metadata": {},
   "outputs": [],
   "source": [
    "class Radiant():\n",
    "    \"Class with constructor\"\n",
    "    def __init__(self, first_name, last_name):\n",
    "        self.first_name = first_name\n",
    "        self.last_name = last_name"
   ]
  },
  {
   "cell_type": "markdown",
   "metadata": {},
   "source": [
    "The new method above is the constructor for this class. It is also referred to as a \"dunder init\" method (dunder because the method name is surrounded by double underscores). Whenever a new instance of the Radiant class is created, the constructor is called automatically. The first argument is always 'self' and it is a standard terminology that refers to the instance itself. Here we are assigning the instance's first_name and last_name based on the 2nd and 3rd arguments passed to it. Once a constructor (\\_\\_init\\_\\_) is available, an instance of the class can be created as shown below."
   ]
  },
  {
   "cell_type": "code",
   "execution_count": 40,
   "metadata": {},
   "outputs": [
    {
     "name": "stdout",
     "output_type": "stream",
     "text": [
      "Kaladin\n",
      "Stormblessed\n"
     ]
    }
   ],
   "source": [
    "radiant_1 = Radiant(\"Kaladin\", \"Stormblessed\")\n",
    "print(radiant_1.first_name)\n",
    "print(radiant_1.last_name)"
   ]
  },
  {
   "cell_type": "markdown",
   "metadata": {},
   "source": [
    "Above, you can see that the same functionality is now available and avoids the repetitive assignment statements. Creating another instance is as simple as:"
   ]
  },
  {
   "cell_type": "code",
   "execution_count": 41,
   "metadata": {},
   "outputs": [
    {
     "name": "stdout",
     "output_type": "stream",
     "text": [
      "Dalinar\n",
      "Kholin\n"
     ]
    }
   ],
   "source": [
    "radiant_2 = Radiant(\"Dalinar\", \"Kholin\")\n",
    "print(radiant_2.first_name)\n",
    "print(radiant_2.last_name)"
   ]
  },
  {
   "cell_type": "markdown",
   "metadata": {},
   "source": [
    "## Class Methods\n",
    "Now that we have our class Radiant, let us create a function that is specific to this class and something that each instance of the class can use. Each instance of the class Radiant can take the first oath: \"Life before death. Strength before weakness. Journey before destination.\" Let us create a method in the class to take this oath."
   ]
  },
  {
   "cell_type": "code",
   "execution_count": 42,
   "metadata": {},
   "outputs": [
    {
     "name": "stdout",
     "output_type": "stream",
     "text": [
      "Kaladin is taking the following oath: Life before death. Strength before weakness. Journey before destination.\n",
      "Kaladin Stormblessed has taken 1 oaths\n"
     ]
    }
   ],
   "source": [
    "class Radiant():\n",
    "    \"Class with constructor and method\"\n",
    "    def __init__(self, first_name, last_name):\n",
    "        self.first_name = first_name\n",
    "        self.last_name = last_name\n",
    "    \n",
    "    def take_first_oath(self):\n",
    "        print(f\"{self.first_name} is taking the following oath: Life before death. Strength before weakness. Journey before destination.\")\n",
    "        self.oath_count = 1\n",
    "    \n",
    "radiant_1 = Radiant(\"Kaladin\", \"Stormblessed\")\n",
    "radiant_1.take_first_oath()\n",
    "print(f\"{radiant_1.first_name} {radiant_1.last_name} has taken {radiant_1.oath_count} oaths\")"
   ]
  },
  {
   "cell_type": "markdown",
   "metadata": {},
   "source": [
    "The above method not only prints the first oath but also updates a newly created attribute for the instance called 'oath_count'. Inspired by Kaladin, Dalinar is also ready to take the first oath."
   ]
  },
  {
   "cell_type": "code",
   "execution_count": 43,
   "metadata": {},
   "outputs": [
    {
     "name": "stdout",
     "output_type": "stream",
     "text": [
      "Dalinar is taking the following oath: Life before death. Strength before weakness. Journey before destination.\n",
      "Dalinar Thorin has taken 1 oaths\n"
     ]
    }
   ],
   "source": [
    "radiant_2 = Radiant(\"Dalinar\", \"Thorin\")\n",
    "radiant_2.take_first_oath()\n",
    "print(f\"{radiant_2.first_name} {radiant_2.last_name} has taken {radiant_2.oath_count} oaths\")"
   ]
  },
  {
   "cell_type": "markdown",
   "metadata": {},
   "source": [
    "The following two are equivalent:"
   ]
  },
  {
   "cell_type": "code",
   "execution_count": 44,
   "metadata": {},
   "outputs": [
    {
     "name": "stdout",
     "output_type": "stream",
     "text": [
      "Dalinar is taking the following oath: Life before death. Strength before weakness. Journey before destination.\n",
      "Dalinar is taking the following oath: Life before death. Strength before weakness. Journey before destination.\n"
     ]
    }
   ],
   "source": [
    "radiant_2.take_first_oath()\n",
    "Radiant.take_first_oath(radiant_2)"
   ]
  },
  {
   "cell_type": "markdown",
   "metadata": {},
   "source": [
    "Now that both our radiants have taken the first oath, let us continue on this in another page."
   ]
  },
  {
   "cell_type": "markdown",
   "metadata": {},
   "source": [
    "All the code is below in a single cell:"
   ]
  },
  {
   "cell_type": "code",
   "execution_count": 45,
   "metadata": {},
   "outputs": [
    {
     "name": "stdout",
     "output_type": "stream",
     "text": [
      "Kaladin is taking the following oath: Life before death. Strength before weakness. Journey before destination.\n",
      "Kaladin Stormblessed has taken 1 oaths\n",
      "Dalinar is taking the following oath: Life before death. Strength before weakness. Journey before destination.\n",
      "Dalinar Thorin has taken 1 oaths\n"
     ]
    }
   ],
   "source": [
    "#hide_output\n",
    "class Radiant():\n",
    "    def __init__(self, first_name, last_name):\n",
    "        self.first_name = first_name\n",
    "        self.last_name = last_name\n",
    "    \n",
    "    def take_first_oath(self):\n",
    "        print(f\"{self.first_name} is taking the following oath: Life before death. Strength before weakness. Journey before destination.\")\n",
    "        self.oath_count = 1\n",
    "    \n",
    "radiant_1 = Radiant(\"Kaladin\", \"Stormblessed\")\n",
    "radiant_1.take_first_oath()\n",
    "print(f\"{radiant_1.first_name} {radiant_1.last_name} has taken {radiant_1.oath_count} oaths\")\n",
    "radiant_2 = Radiant(\"Dalinar\", \"Thorin\")\n",
    "radiant_2.take_first_oath()\n",
    "print(f\"{radiant_2.first_name} {radiant_2.last_name} has taken {radiant_2.oath_count} oaths\")"
   ]
  },
  {
   "cell_type": "code",
   "execution_count": null,
   "metadata": {},
   "outputs": [],
   "source": []
  }
 ],
 "metadata": {
  "kernelspec": {
   "display_name": "Python 3 (ipykernel)",
   "language": "python",
   "name": "python3"
  },
  "language_info": {
   "codemirror_mode": {
    "name": "ipython",
    "version": 3
   },
   "file_extension": ".py",
   "mimetype": "text/x-python",
   "name": "python",
   "nbconvert_exporter": "python",
   "pygments_lexer": "ipython3",
   "version": "3.7.4"
  }
 },
 "nbformat": 4,
 "nbformat_minor": 4
}
