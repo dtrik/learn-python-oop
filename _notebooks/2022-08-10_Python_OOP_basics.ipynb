{
 "cells": [
  {
   "cell_type": "markdown",
   "metadata": {},
   "source": [
    "# Python OOP Concepts\n",
    "\n",
    "> Learn Python OOP Concepts with examples\"\n",
    "- toc: true \n",
    "- badges: true\n",
    "- comments: false\n",
    "- categories: [jupyter]"
   ]
  },
  {
   "cell_type": "markdown",
   "metadata": {},
   "source": [
    "This is based on the wonderful YouTube playlist by Corey Schafer:  https://coreyms.com/development/python/python-oop-tutorials-complete-series\n",
    "I am creating a notebook demonstrating my understanding"
   ]
  },
  {
   "cell_type": "markdown",
   "metadata": {},
   "source": [
    "## Below is the definition of a basic class called Radiant"
   ]
  },
  {
   "cell_type": "code",
   "execution_count": 11,
   "metadata": {},
   "outputs": [],
   "source": [
    "class Radiant():\n",
    "    \"An empty class definition\"\n",
    "    pass\n",
    "\n",
    "radiant_1 = Radiant()\n",
    "radiant_1.first_name = \"Kaladin\"\n",
    "radiant_1.last_name = \"Stormblessed\""
   ]
  },
  {
   "cell_type": "markdown",
   "metadata": {},
   "source": [
    "Here we have a created an empty class called Radiant. Then we have created an instance of the class Radiant called radiant_1. Finally we have assigned the 'first_name' attribute of radiant_1 with the string \"Kaladin\" and 'last_name' attribute of radiant_1 with the string \"Stormblessed\""
   ]
  },
  {
   "cell_type": "code",
   "execution_count": 12,
   "metadata": {},
   "outputs": [
    {
     "name": "stdout",
     "output_type": "stream",
     "text": [
      "Kaladin\n",
      "Stormblessed\n"
     ]
    }
   ],
   "source": [
    "print(radiant_1.first_name)\n",
    "print(radiant_1.last_name)"
   ]
  },
  {
   "cell_type": "markdown",
   "metadata": {},
   "source": [
    "Above we can see that the first_name and last_name attributes of radiant_1 are now displayed as expected. Let us now create another instance of radiant called radiant_2 and assign the first_name and last_name attributes as \"Dalinar\" and \"Thorin\""
   ]
  },
  {
   "cell_type": "code",
   "execution_count": 13,
   "metadata": {},
   "outputs": [],
   "source": [
    "radiant_2 = Radiant()\n",
    "radiant_2.first_name = \"Dalinar\"\n",
    "radiant_2.last_name = \"Thorin\""
   ]
  },
  {
   "cell_type": "code",
   "execution_count": 15,
   "metadata": {},
   "outputs": [
    {
     "name": "stdout",
     "output_type": "stream",
     "text": [
      "Dalinar\n",
      "Thorin\n"
     ]
    }
   ],
   "source": [
    "print(radiant_2.first_name)\n",
    "print(radiant_2.last_name)"
   ]
  },
  {
   "cell_type": "markdown",
   "metadata": {},
   "source": [
    "This also is working as expected. But there is a lot of repetition we can see for creating each new instance of the class Radiant. To resolve this, we create a special function inside the Radiant class called an init method."
   ]
  },
  {
   "cell_type": "code",
   "execution_count": 16,
   "metadata": {},
   "outputs": [],
   "source": [
    "class Radiant():\n",
    "    def __init__(self, first_name, last_name):\n",
    "        self.first_name = first_name\n",
    "        self.last_name = last_name"
   ]
  },
  {
   "cell_type": "markdown",
   "metadata": {},
   "source": [
    "The above init method has two underscores surrounding the name and is referred to as a \"dunder init\" method. The first argument is 'self' and it is a standard usage which refers to the instance itself. Here we are assigning the instance's first_name and last_name based on the 2nd and 3rd arguments passed to it. Whenever a new instance of the Radiant class is created, the __init__ method is called automatically. The new way of creating it is shown below."
   ]
  },
  {
   "cell_type": "code",
   "execution_count": 17,
   "metadata": {},
   "outputs": [
    {
     "name": "stdout",
     "output_type": "stream",
     "text": [
      "Kaladin\n",
      "Stormblessed\n"
     ]
    }
   ],
   "source": [
    "radiant_1 = Radiant(\"Kaladin\", \"Stormblessed\")\n",
    "print(radiant_1.first_name)\n",
    "print(radiant_1.last_name)"
   ]
  },
  {
   "cell_type": "markdown",
   "metadata": {},
   "source": [
    "Above you can see that the same functionality is now available and avoids the repetitive assignment statements. Creating another instance is as simple as:"
   ]
  },
  {
   "cell_type": "code",
   "execution_count": 19,
   "metadata": {},
   "outputs": [
    {
     "name": "stdout",
     "output_type": "stream",
     "text": [
      "Dalinar\n",
      "Kholin\n"
     ]
    }
   ],
   "source": [
    "radiant_2 = Radiant(\"Dalinar\", \"Kholin\")\n",
    "print(radiant_2.first_name)\n",
    "print(radiant_2.last_name)"
   ]
  },
  {
   "cell_type": "markdown",
   "metadata": {},
   "source": [
    "\n"
   ]
  }
 ],
 "metadata": {
  "kernelspec": {
   "display_name": "Python 3 (ipykernel)",
   "language": "python",
   "name": "python3"
  },
  "language_info": {
   "codemirror_mode": {
    "name": "ipython",
    "version": 3
   },
   "file_extension": ".py",
   "mimetype": "text/x-python",
   "name": "python",
   "nbconvert_exporter": "python",
   "pygments_lexer": "ipython3",
   "version": "3.7.4"
  }
 },
 "nbformat": 4,
 "nbformat_minor": 4
}
