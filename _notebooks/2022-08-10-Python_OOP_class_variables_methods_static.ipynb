{
 "cells": [
  {
   "cell_type": "markdown",
   "metadata": {},
   "source": [
    "# Python OOP Concepts - Class Variables, classmethods, staticmethods\n",
    "\n",
    "> \"Learn Python OOP Concepts with examples\"\n",
    "- toc: true \n",
    "- badges: true\n",
    "- comments: false\n",
    "- categories: [jupyter]"
   ]
  },
  {
   "cell_type": "markdown",
   "metadata": {},
   "source": [
    "This is based on the wonderful tutorial by [Corey Schafer](https://coreyms.com/development/python/python-oop-tutorials-complete-series)\n",
    "\n",
    "This notebook is based on the [second](https://www.youtube.com/watch?v=BJ-VvGyQxho) and [third](https://www.youtube.com/watch?v=rq8cL2XMM5M) lecture: "
   ]
  },
  {
   "cell_type": "markdown",
   "metadata": {},
   "source": [
    "## Class Variables\n",
    "Recall the class we have defined from the [previous](https://dtrik.github.io/learn-python-oop/jupyter/2022/08/10/Python_OOP_basics.html) blog:"
   ]
  },
  {
   "cell_type": "code",
   "execution_count": 1,
   "metadata": {},
   "outputs": [],
   "source": [
    "class Radiant():\n",
    "    def __init__(self, first_name, last_name):\n",
    "        self.first_name = first_name\n",
    "        self.last_name = last_name\n",
    "    \n",
    "    def take_first_oath(self):\n",
    "        print(f\"{self.first_name} is taking the following oath: Life before death. Strength before weakness. Journey before destination.\")\n",
    "        self.oath_count = 1"
   ]
  },
  {
   "cell_type": "markdown",
   "metadata": {},
   "source": [
    "Suppose we want to keep track of how many instances of Radiant have been created. This variable would be common across all instances. "
   ]
  },
  {
   "cell_type": "code",
   "execution_count": 5,
   "metadata": {},
   "outputs": [],
   "source": [
    "class Radiant():\n",
    "    num_radiants = 0\n",
    "    def __init__(self, first_name, last_name):\n",
    "        self.first_name = first_name\n",
    "        self.last_name = last_name\n",
    "    \n",
    "    def take_first_oath(self):\n",
    "        print(f\"{self.first_name} is taking the following oath: Life before death. Strength before weakness. Journey before destination.\")\n",
    "        self.oath_count = 1\n",
    "        Radiant.num_radiants += 1"
   ]
  },
  {
   "cell_type": "markdown",
   "metadata": {},
   "source": [
    "We can see that in the class definition, we have to use Radiant.num_radiants while using the class variable instead of just num_radiants."
   ]
  },
  {
   "cell_type": "markdown",
   "metadata": {},
   "source": [
    "Let us see what happens when we create two instances of Radiant."
   ]
  },
  {
   "cell_type": "code",
   "execution_count": 6,
   "metadata": {
    "scrolled": true
   },
   "outputs": [
    {
     "name": "stdout",
     "output_type": "stream",
     "text": [
      "0\n",
      "Kaladin is taking the following oath: Life before death. Strength before weakness. Journey before destination.\n",
      "1\n",
      "1\n",
      "Dalinar is taking the following oath: Life before death. Strength before weakness. Journey before destination.\n",
      "2\n"
     ]
    }
   ],
   "source": [
    "radiant_1 = Radiant(\"Kaladin\", \"Stormblessed\")\n",
    "print(Radiant.num_radiants)\n",
    "radiant_1.take_first_oath()\n",
    "print(Radiant.num_radiants)\n",
    "\n",
    "radiant_2 = Radiant(\"Dalinar\", \"Kholin\")\n",
    "print(Radiant.num_radiants)\n",
    "radiant_2.take_first_oath()\n",
    "print(Radiant.num_radiants)"
   ]
  },
  {
   "cell_type": "markdown",
   "metadata": {},
   "source": [
    "The 'num_radiants' class variable is updated each time a radiant takes the first oath."
   ]
  },
  {
   "cell_type": "markdown",
   "metadata": {},
   "source": [
    "#hide\n",
    "Instead of using Radiant.num_radiants, we can also use self.num_radiants. When we use this, the instance uses the attribute from the class and updates the instance specific attribute."
   ]
  },
  {
   "cell_type": "code",
   "execution_count": 18,
   "metadata": {},
   "outputs": [],
   "source": [
    "#hide\n",
    "class Radiant():\n",
    "    num_radiants = 0\n",
    "    def __init__(self, first_name, last_name):\n",
    "        self.first_name = first_name\n",
    "        self.last_name = last_name\n",
    "    \n",
    "    def take_first_oath(self):\n",
    "        print(f\"{self.first_name} is taking the following oath: Life before death. Strength before weakness. Journey before destination.\")\n",
    "        self.oath_count = 1\n",
    "        Radiant.num_radiants += 1"
   ]
  },
  {
   "cell_type": "markdown",
   "metadata": {},
   "source": [
    "#hide\n",
    "We can see how the behaviour has changed from the original definition."
   ]
  },
  {
   "cell_type": "code",
   "execution_count": 19,
   "metadata": {},
   "outputs": [
    {
     "name": "stdout",
     "output_type": "stream",
     "text": [
      "0\n",
      "0\n",
      "0\n",
      "{'first_name': 'Kaladin', 'last_name': 'Stormblessed'}\n",
      "{'first_name': 'Dalinar', 'last_name': 'Kholin'}\n",
      "{'__module__': '__main__', 'num_radiants': 0, '__init__': <function Radiant.__init__ at 0x7fb80c21f200>, 'take_first_oath': <function Radiant.take_first_oath at 0x7fb80c21f290>, '__dict__': <attribute '__dict__' of 'Radiant' objects>, '__weakref__': <attribute '__weakref__' of 'Radiant' objects>, '__doc__': None}\n",
      "Kaladin is taking the following oath: Life before death. Strength before weakness. Journey before destination.\n",
      "Dalinar is taking the following oath: Life before death. Strength before weakness. Journey before destination.\n",
      "{'first_name': 'Kaladin', 'last_name': 'Stormblessed', 'oath_count': 1}\n",
      "{'first_name': 'Dalinar', 'last_name': 'Kholin', 'oath_count': 1}\n",
      "{'__module__': '__main__', 'num_radiants': 2, '__init__': <function Radiant.__init__ at 0x7fb80c21f200>, 'take_first_oath': <function Radiant.take_first_oath at 0x7fb80c21f290>, '__dict__': <attribute '__dict__' of 'Radiant' objects>, '__weakref__': <attribute '__weakref__' of 'Radiant' objects>, '__doc__': None}\n",
      "2\n",
      "2\n",
      "2\n"
     ]
    }
   ],
   "source": [
    "#hide\n",
    "radiant_1 = Radiant(\"Kaladin\", \"Stormblessed\")\n",
    "radiant_2 = Radiant(\"Dalinar\", \"Kholin\")\n",
    "print(Radiant.num_radiants)\n",
    "print(radiant_1.num_radiants)\n",
    "print(radiant_2.num_radiants)\n",
    "\n",
    "print(radiant_1.__dict__)\n",
    "print(radiant_2.__dict__)\n",
    "print(Radiant.__dict__)\n",
    "\n",
    "radiant_1.take_first_oath()\n",
    "\n",
    "\n",
    "radiant_2.take_first_oath()\n",
    "print(radiant_1.__dict__)\n",
    "print(radiant_2.__dict__)\n",
    "print(Radiant.__dict__)\n",
    "\n",
    "print(Radiant.num_radiants)\n",
    "print(radiant_1.num_radiants)\n",
    "print(radiant_2.num_radiants)"
   ]
  },
  {
   "cell_type": "markdown",
   "metadata": {},
   "source": [
    "The num_radiants is a variable that should be constant across all the instances of the class. But consider a variable "
   ]
  }
 ],
 "metadata": {
  "kernelspec": {
   "display_name": "Python 3 (ipykernel)",
   "language": "python",
   "name": "python3"
  },
  "language_info": {
   "codemirror_mode": {
    "name": "ipython",
    "version": 3
   },
   "file_extension": ".py",
   "mimetype": "text/x-python",
   "name": "python",
   "nbconvert_exporter": "python",
   "pygments_lexer": "ipython3",
   "version": "3.7.4"
  }
 },
 "nbformat": 4,
 "nbformat_minor": 4
}
