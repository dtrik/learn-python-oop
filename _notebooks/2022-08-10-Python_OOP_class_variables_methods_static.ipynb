{
 "cells": [
  {
   "cell_type": "markdown",
   "metadata": {},
   "source": [
    "# Python OOP Concepts - Class Variables, classmethods, staticmethods\n",
    "\n",
    "> \"Learn Python OOP Concepts with examples\"\n",
    "- toc: true \n",
    "- badges: true\n",
    "- comments: false\n",
    "- categories: [jupyter]"
   ]
  },
  {
   "cell_type": "markdown",
   "metadata": {},
   "source": [
    "This is based on the wonderful tutorial by [Corey Schafer](https://coreyms.com/development/python/python-oop-tutorials-complete-series)\n",
    "\n",
    "This notebook is based on the [second](https://www.youtube.com/watch?v=BJ-VvGyQxho) and [third](https://www.youtube.com/watch?v=rq8cL2XMM5M) lecture: "
   ]
  },
  {
   "cell_type": "markdown",
   "metadata": {},
   "source": [
    "## Class Variables\n",
    "Recall the class we have defined from the [previous](https://dtrik.github.io/learn-python-oop/jupyter/2022/08/09/_Python_OOP_basics.html) blog:"
   ]
  },
  {
   "cell_type": "code",
   "execution_count": 1,
   "metadata": {},
   "outputs": [],
   "source": [
    "class Radiant():\n",
    "    def __init__(self, first_name, last_name):\n",
    "        self.first_name = first_name\n",
    "        self.last_name = last_name\n",
    "    \n",
    "    def take_first_oath(self):\n",
    "        print(f\"{self.first_name} is taking the following oath: Life before death. Strength before weakness. Journey before destination.\")\n",
    "        self.oath_count = 1"
   ]
  },
  {
   "cell_type": "markdown",
   "metadata": {},
   "source": [
    "Suppose we want to keep track of how many instances of Radiant have been created. This variable would be common across all instances. "
   ]
  },
  {
   "cell_type": "code",
   "execution_count": 3,
   "metadata": {},
   "outputs": [],
   "source": [
    "class Radiant():\n",
    "    num_radiants = 0\n",
    "    def __init__(self, first_name, last_name):\n",
    "        self.first_name = first_name\n",
    "        self.last_name = last_name\n",
    "        Radiant.num_radiants += 1\n",
    "    \n",
    "    def take_first_oath(self):\n",
    "        print(f\"{self.first_name} is taking the following oath: Life before death. Strength before weakness. Journey before destination.\")\n",
    "        self.oath_count = 1"
   ]
  },
  {
   "cell_type": "code",
   "execution_count": 4,
   "metadata": {},
   "outputs": [
    {
     "name": "stdout",
     "output_type": "stream",
     "text": [
      "1\n",
      "2\n"
     ]
    }
   ],
   "source": [
    "radiant_1 = Radiant(\"Kaladin\", \"Stormblessed\")\n",
    "print(Radiant.num_radiants)\n",
    "radiant_2 = Radiant(\"Dalinar\", \"Kholin\")\n",
    "print(Radiant.num_radiants)"
   ]
  },
  {
   "cell_type": "markdown",
   "metadata": {},
   "source": [
    "We can see that in the class definition, we have to use Radiant.num_radiants while using the class variable instead of just num_radiants."
   ]
  }
 ],
 "metadata": {
  "kernelspec": {
   "display_name": "Python 3 (ipykernel)",
   "language": "python",
   "name": "python3"
  },
  "language_info": {
   "codemirror_mode": {
    "name": "ipython",
    "version": 3
   },
   "file_extension": ".py",
   "mimetype": "text/x-python",
   "name": "python",
   "nbconvert_exporter": "python",
   "pygments_lexer": "ipython3",
   "version": "3.7.4"
  }
 },
 "nbformat": 4,
 "nbformat_minor": 4
}
