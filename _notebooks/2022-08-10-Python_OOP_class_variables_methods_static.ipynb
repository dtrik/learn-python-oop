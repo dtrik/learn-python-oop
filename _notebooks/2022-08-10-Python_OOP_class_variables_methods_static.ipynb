{
 "cells": [
  {
   "cell_type": "markdown",
   "metadata": {},
   "source": [
    "# Python OOP Concepts - Class Variables, Class Methods, Static Methods\n",
    "\n",
    "> \"Learn Python OOP Concepts with examples\"\n",
    "- toc: true \n",
    "- badges: true\n",
    "- comments: false\n",
    "- categories: [jupyter]"
   ]
  },
  {
   "cell_type": "markdown",
   "metadata": {},
   "source": [
    "This is based on the wonderful tutorial by [Corey Schafer](https://coreyms.com/development/python/python-oop-tutorials-complete-series)\n",
    "\n",
    "This notebook is based on the [second](https://www.youtube.com/watch?v=BJ-VvGyQxho) and [third](https://www.youtube.com/watch?v=rq8cL2XMM5M) lecture: "
   ]
  },
  {
   "cell_type": "markdown",
   "metadata": {},
   "source": [
    "## Class Variables\n",
    "Recall the class we have defined from the [previous](https://dtrik.github.io/learn-python-oop/jupyter/2022/08/10/Python_OOP_basics.html) blog:"
   ]
  },
  {
   "cell_type": "code",
   "execution_count": null,
   "metadata": {},
   "outputs": [],
   "source": [
    "class Radiant():\n",
    "    def __init__(self, first_name, last_name):\n",
    "        self.first_name = first_name\n",
    "        self.last_name = last_name\n",
    "    \n",
    "    def speak_first_ideal(self):\n",
    "        print(f\"{self.first_name} has spoken the following ideal: Life before death. Strength before weakness. Journey before destination.\")\n",
    "        self.ideal_count = 1"
   ]
  },
  {
   "cell_type": "markdown",
   "metadata": {},
   "source": [
    "Suppose we want to keep track of how many instances of Radiant have been created. This variable would be common across all instances. "
   ]
  },
  {
   "cell_type": "code",
   "execution_count": null,
   "metadata": {},
   "outputs": [],
   "source": [
    "class Radiant():\n",
    "    num_radiants = 0\n",
    "    def __init__(self, first_name, last_name):\n",
    "        self.first_name = first_name\n",
    "        self.last_name = last_name\n",
    "    \n",
    "    def speak_first_ideal(self):\n",
    "        print(f\"{self.first_name} has spoken the following ideal: Life before death. Strength before weakness. Journey before destination.\")\n",
    "        self.ideal_count = 1\n",
    "        Radiant.num_radiants += 1"
   ]
  },
  {
   "cell_type": "markdown",
   "metadata": {},
   "source": [
    "We can see that in the class definition, we have to use Radiant.num_radiants while using the class variable instead of just num_radiants."
   ]
  },
  {
   "cell_type": "markdown",
   "metadata": {},
   "source": [
    "Let us see what happens when we create two instances of Radiant."
   ]
  },
  {
   "cell_type": "code",
   "execution_count": null,
   "metadata": {},
   "outputs": [
    {
     "name": "stdout",
     "output_type": "stream",
     "text": [
      "0\n",
      "Kaladin has spoken the following ideal: Life before death. Strength before weakness. Journey before destination.\n",
      "1\n",
      "1\n",
      "Dalinar has spoken the following ideal: Life before death. Strength before weakness. Journey before destination.\n",
      "2\n"
     ]
    }
   ],
   "source": [
    "radiant_1 = Radiant(\"Kaladin\", \"Stormblessed\")\n",
    "print(Radiant.num_radiants)\n",
    "radiant_1.speak_first_ideal()\n",
    "print(Radiant.num_radiants)\n",
    "\n",
    "radiant_2 = Radiant(\"Dalinar\", \"Kholin\")\n",
    "print(Radiant.num_radiants)\n",
    "radiant_2.speak_first_ideal()\n",
    "print(Radiant.num_radiants)"
   ]
  },
  {
   "cell_type": "markdown",
   "metadata": {},
   "source": [
    "The 'num_radiants' class variable is updated each time a radiant speaks the first ideal. This is a variable that should be constant across all the instances of the class. But consider if we want a class level default which can be updated at instance level. For eg: We know that the first ideal is the same across all Radiant Orders. But suppose there is a new instance named Python Zen that wants to speak a different first ideal. Let us see how we can implement that:"
   ]
  },
  {
   "cell_type": "code",
   "execution_count": null,
   "metadata": {},
   "outputs": [],
   "source": [
    "class Radiant():\n",
    "    num_radiants = 0\n",
    "    first_ideal = \"Life before death. Strength before weakness. Journey before destination.\"\n",
    "    def __init__(self, first_name, last_name):\n",
    "        self.first_name = first_name\n",
    "        self.last_name = last_name\n",
    "    \n",
    "    def speak_first_ideal(self):\n",
    "        print(f\"{self.first_name} has spoken the following ideal: {self.first_ideal}\")\n",
    "        self.ideal_count = 1\n",
    "        Radiant.num_radiants += 1"
   ]
  },
  {
   "cell_type": "code",
   "execution_count": null,
   "metadata": {},
   "outputs": [
    {
     "name": "stdout",
     "output_type": "stream",
     "text": [
      "Kaladin has spoken the following ideal: Life before death. Strength before weakness. Journey before destination.\n",
      "Python has spoken the following ideal: Beautiful is better than ugly. Explicit is better than implicit. Simple is better than complex.\n"
     ]
    }
   ],
   "source": [
    "radiant_1 = Radiant(\"Kaladin\", \"Stormblessed\")\n",
    "radiant_2 = Radiant(\"Python\", \"Zen\")\n",
    "\n",
    "radiant_1.speak_first_ideal()\n",
    "radiant_2.first_ideal = \"Beautiful is better than ugly. Explicit is better than implicit. \\\n",
    "Simple is better than complex.\"\n",
    "radiant_2.speak_first_ideal()"
   ]
  },
  {
   "cell_type": "markdown",
   "metadata": {},
   "source": [
    "Here we can see how the first\\_ideal class variable is used by default when instance specific value is not available. But if we set the first\\_ideal to a specific value for an instance, within it this new value is used"
   ]
  },
  {
   "cell_type": "markdown",
   "metadata": {},
   "source": [
    "We can investigate the namespace of the instance and class to further dig into what is happening.\n",
    "The namespace can be seen by printing the \\_\\_dict\\_\\_ attribute of a class or instance."
   ]
  },
  {
   "cell_type": "code",
   "execution_count": null,
   "metadata": {},
   "outputs": [
    {
     "name": "stdout",
     "output_type": "stream",
     "text": [
      "Class namespace: {'__module__': '__main__', 'num_radiants': 2, 'first_ideal': 'Life before death. Strength before weakness. Journey before destination.', '__init__': <function Radiant.__init__>, 'speak_first_ideal': <function Radiant.speak_first_ideal>, '__dict__': <attribute '__dict__' of 'Radiant' objects>, '__weakref__': <attribute '__weakref__' of 'Radiant' objects>, '__doc__': None}\n",
      "radiant_1 namespace: {'first_name': 'Kaladin', 'last_name': 'Stormblessed'}\n",
      "radiant_2 namespace: {'first_name': 'Python', 'last_name': 'Zen'}\n"
     ]
    }
   ],
   "source": [
    "radiant_1 = Radiant(\"Kaladin\", \"Stormblessed\")\n",
    "radiant_2 = Radiant(\"Python\", \"Zen\")\n",
    "print(f\"Class namespace: {Radiant.__dict__}\")\n",
    "print(f\"radiant_1 namespace: {radiant_1.__dict__}\")\n",
    "print(f\"radiant_2 namespace: {radiant_2.__dict__}\")"
   ]
  },
  {
   "cell_type": "markdown",
   "metadata": {},
   "source": [
    "We see that first\\_ideal is not seen in the namespace of radiant\\_1 and radiant\\_2 but the class variable can be accessed by the instance as seen below:"
   ]
  },
  {
   "cell_type": "code",
   "execution_count": null,
   "metadata": {},
   "outputs": [
    {
     "name": "stdout",
     "output_type": "stream",
     "text": [
      "First ideal of radiant_1 available from the class variable: Life before death. Strength before weakness. Journey before destination.\n",
      "First ideal of radiant_2 available from the class variable: Life before death. Strength before weakness. Journey before destination.\n"
     ]
    }
   ],
   "source": [
    "print(f\"First ideal of radiant_1 available from the class variable: {radiant_1.first_ideal}\")\n",
    "print(f\"First ideal of radiant_2 available from the class variable: {radiant_2.first_ideal}\")"
   ]
  },
  {
   "cell_type": "code",
   "execution_count": null,
   "metadata": {},
   "outputs": [
    {
     "name": "stdout",
     "output_type": "stream",
     "text": [
      "Kaladin has spoken the following ideal: Life before death. Strength before weakness. Journey before destination.\n",
      "Python has spoken the following ideal: Beautiful is better than ugly. Explicit is better than implicit. Simple is better than complex.\n"
     ]
    }
   ],
   "source": [
    "radiant_1.speak_first_ideal()\n",
    "radiant_2.first_ideal = \"Beautiful is better than ugly. Explicit is better than implicit. \\\n",
    "Simple is better than complex.\"\n",
    "radiant_2.speak_first_ideal()"
   ]
  },
  {
   "cell_type": "markdown",
   "metadata": {},
   "source": [
    "After the speak\\_first\\_ideal method is called, let us investigate the namespaces of radiant\\_1 and radiant\\_2:"
   ]
  },
  {
   "cell_type": "code",
   "execution_count": null,
   "metadata": {},
   "outputs": [
    {
     "name": "stdout",
     "output_type": "stream",
     "text": [
      "radiant_1 namespace: {'first_name': 'Kaladin', 'last_name': 'Stormblessed', 'ideal_count': 1}\n",
      "radiant_2 namespace: {'first_name': 'Python', 'last_name': 'Zen', 'first_ideal': 'Beautiful is better than ugly. Explicit is better than implicit. Simple is better than complex.', 'ideal_count': 1}\n"
     ]
    }
   ],
   "source": [
    "print(f\"radiant_1 namespace: {radiant_1.__dict__}\")\n",
    "print(f\"radiant_2 namespace: {radiant_2.__dict__}\")"
   ]
  },
  {
   "cell_type": "markdown",
   "metadata": {},
   "source": [
    "We can see that radiant\\_2 now has a first\\_ideal variable available to it while radiant\\_1 does not. radiant\\_1 still uses the class variable while radiant\\_2 now has an instance-specific value. When we print the first\\_ideal variable of the class and the instances, we can see this difference."
   ]
  },
  {
   "cell_type": "code",
   "execution_count": null,
   "metadata": {},
   "outputs": [
    {
     "name": "stdout",
     "output_type": "stream",
     "text": [
      "First ideal of class variable: Life before death. Strength before weakness. Journey before destination.\n",
      "First ideal of radiant_1: Life before death. Strength before weakness. Journey before destination.\n",
      "First ideal of radiant_2: Beautiful is better than ugly. Explicit is better than implicit. Simple is better than complex.\n"
     ]
    }
   ],
   "source": [
    "print(f\"First ideal of class variable: {Radiant.first_ideal}\")\n",
    "print(f\"First ideal of radiant_1: {radiant_1.first_ideal}\")\n",
    "print(f\"First ideal of radiant_2: {radiant_2.first_ideal}\")"
   ]
  },
  {
   "cell_type": "markdown",
   "metadata": {},
   "source": [
    "## Class Methods\n",
    "Class methods receive the class itself as the input instead of the instance. Suppose from our above example, we want to update the first ideal of the class itself. For this, we need to add a classmethod decorator (@classmethod) above the method definition. Here is how we can do that:"
   ]
  },
  {
   "cell_type": "code",
   "execution_count": null,
   "metadata": {},
   "outputs": [],
   "source": [
    "class Radiant():\n",
    "    num_radiants = 0\n",
    "    first_ideal = \"Life before death. Strength before weakness. Journey before destination.\"\n",
    "    def __init__(self, first_name, last_name):\n",
    "        self.first_name = first_name\n",
    "        self.last_name = last_name\n",
    "    \n",
    "    def speak_first_ideal(self):\n",
    "        print(f\"{self.first_name} has spoken the following ideal: {self.first_ideal}\")\n",
    "        self.ideal_count = 1\n",
    "        Radiant.num_radiants += 1\n",
    "    \n",
    "    @classmethod\n",
    "    def update_ideal(cls, ideal):\n",
    "        cls.first_ideal = ideal"
   ]
  },
  {
   "cell_type": "code",
   "execution_count": null,
   "metadata": {},
   "outputs": [
    {
     "name": "stdout",
     "output_type": "stream",
     "text": [
      "First ideal of class variable: Life before death. Strength before weakness. Journey before destination.\n",
      "First ideal of radiant_1: Life before death. Strength before weakness. Journey before destination.\n",
      "First ideal of class variable: Now is better than never.\n",
      "First ideal of radiant_1: Now is better than never.\n"
     ]
    }
   ],
   "source": [
    "radiant_1 = Radiant(\"Python\", \"Zen\")\n",
    "print(f\"First ideal of class variable: {Radiant.first_ideal}\")\n",
    "print(f\"First ideal of radiant_1: {radiant_1.first_ideal}\")\n",
    "Radiant.update_ideal(\"Now is better than never.\")\n",
    "print(f\"First ideal of class variable: {Radiant.first_ideal}\")\n",
    "print(f\"First ideal of radiant_1: {radiant_1.first_ideal}\")"
   ]
  },
  {
   "cell_type": "markdown",
   "metadata": {},
   "source": [
    "We can see that the class variable and the instance-specific variable has been modified."
   ]
  },
  {
   "cell_type": "markdown",
   "metadata": {},
   "source": [
    "Another use-case of class methods is for defining alternative constructors. Suppose instead of passing first\\_name and second\\_name separately, the user wants to pass in the full name separated by space. Class methods can be used here to construct our instances and assign the values. Let us see how to do that below:"
   ]
  },
  {
   "cell_type": "code",
   "execution_count": null,
   "metadata": {},
   "outputs": [
    {
     "name": "stdout",
     "output_type": "stream",
     "text": [
      "Kaladin\n",
      "Stormblessed\n"
     ]
    }
   ],
   "source": [
    "class Radiant():\n",
    "    num_radiants = 0\n",
    "    first_ideal = \"Life before death. Strength before weakness. Journey before destination.\"\n",
    "    def __init__(self, first_name, last_name):\n",
    "        self.first_name = first_name\n",
    "        self.last_name = last_name\n",
    "    \n",
    "    def speak_first_ideal(self):\n",
    "        print(f\"{self.first_name} has spoken the following ideal: {self.first_ideal}\")\n",
    "        self.ideal_count = 1\n",
    "        Radiant.num_radiants += 1\n",
    "    \n",
    "    @classmethod\n",
    "    def update_ideal(cls, ideal):\n",
    "        cls.first_ideal = ideal\n",
    "    \n",
    "    @classmethod\n",
    "    def from_full_name(cls, full_name):\n",
    "        first_name, last_name = full_name.split(' ')\n",
    "        return cls(first_name, last_name)\n",
    "\n",
    "radiant_1 = Radiant.from_full_name(\"Kaladin Stormblessed\")\n",
    "print(radiant_1.first_name)\n",
    "print(radiant_1.last_name)"
   ]
  },
  {
   "cell_type": "markdown",
   "metadata": {},
   "source": [
    "Adding \"from\" as a prefix to alternative constructors is a convention. Once we capture the first\\_name and last\\_name by splitting the full\\_name passed into the class method, we call the default constructor and then return the instance that has been created. Note that instead of calling Radiant(first\\_name, last\\_name), we are calling cls(first\\_name, last\\_name) because Radiant is passed into the class method as cls."
   ]
  },
  {
   "cell_type": "markdown",
   "metadata": {},
   "source": [
    "## Static Methods\n",
    "Static methods are basically functions that are part of a class because they are connected to the class. They do not receive the instance or class as default inputs. Suppose we want our Radiant is very frustrated and wants to swear, let us see how to use static methods to do that. Static methods are created by adding a staticmethod decorator (@staticmethod) above the method definition."
   ]
  },
  {
   "cell_type": "code",
   "execution_count": null,
   "metadata": {},
   "outputs": [
    {
     "name": "stdout",
     "output_type": "stream",
     "text": [
      "Kelek's Breath\n",
      "Blood of my father\n"
     ]
    }
   ],
   "source": [
    "class Radiant():\n",
    "    num_radiants = 0\n",
    "    first_ideal = \"Life before death. Strength before weakness. Journey before destination.\"\n",
    "    def __init__(self, first_name, last_name):\n",
    "        self.first_name = first_name\n",
    "        self.last_name = last_name\n",
    "    \n",
    "    def speak_first_ideal(self):\n",
    "        print(f\"{self.first_name} has spoken the following ideal: {self.first_ideal}\")\n",
    "        self.ideal_count = 1\n",
    "        Radiant.num_radiants += 1\n",
    "    \n",
    "    @classmethod\n",
    "    def update_ideal(cls, ideal):\n",
    "        cls.first_ideal = ideal\n",
    "    \n",
    "    @classmethod\n",
    "    def from_full_name(cls, full_name):\n",
    "        first_name, last_name = full_name.split(' ')\n",
    "        return cls(first_name, last_name)\n",
    "    \n",
    "    @staticmethod\n",
    "    def swear(curse=\"Kelek's Breath\"):\n",
    "        print(curse)\n",
    "        \n",
    "Radiant.swear()\n",
    "radiant_1 = Radiant.from_full_name(\"Dalinar Thorin\")\n",
    "radiant_1.swear(\"Blood of my father\")"
   ]
  },
  {
   "cell_type": "markdown",
   "metadata": {},
   "source": [
    "Now that our newly created Radiants from full names can swear different first ideals using classmethods as well as curse using staticmethods, let us stop and look at inheritance in the next blog. "
   ]
  }
 ],
 "metadata": {
  "kernelspec": {
   "display_name": "Python 3 (ipykernel)",
   "language": "python",
   "name": "python3"
  }
 },
 "nbformat": 4,
 "nbformat_minor": 4
}
