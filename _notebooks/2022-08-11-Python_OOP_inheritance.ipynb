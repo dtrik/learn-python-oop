{
 "cells": [
  {
   "cell_type": "markdown",
   "metadata": {},
   "source": [
    "# Python OOP Concepts - Inheritance\n",
    "\n",
    "> \"Learn Python OOP Concepts with examples\"\n",
    "- toc: true \n",
    "- badges: true\n",
    "- comments: false\n",
    "- categories: [jupyter]"
   ]
  },
  {
   "cell_type": "markdown",
   "metadata": {},
   "source": [
    "This is based on the wonderful tutorial by [Corey Schafer](https://coreyms.com/development/python/python-oop-tutorials-complete-series)\n",
    "\n",
    "This notebook is based on the [fourth](https://www.youtube.com/watch?v=rq8cL2XMM5M):"
   ]
  },
  {
   "cell_type": "markdown",
   "metadata": {},
   "source": [
    "## Inheritance\n",
    "Recall the class (with bells and whistles\\!) we have defined from the [previous](https://dtrik.github.io/learn-python-oop/jupyter/2022/08/10/Python_OOP_class_variables_methods_static.html) blog:"
   ]
  },
  {
   "cell_type": "code",
   "execution_count": null,
   "metadata": {},
   "outputs": [],
   "source": [
    "class Radiant():\n",
    "    num_radiants = 0\n",
    "    first_ideal = \"Life before death. Strength before weakness. Journey before destination.\"\n",
    "    def __init__(self, first_name, last_name):\n",
    "        self.first_name = first_name\n",
    "        self.last_name = last_name\n",
    "    \n",
    "    def speak_first_ideal(self):\n",
    "        print(f\"{self.first_name} has spoken the first ideal: {self.first_ideal}\")\n",
    "        self.ideal_count = 1\n",
    "        Radiant.num_radiants += 1\n",
    "    \n",
    "    def speak_second_ideal(self):\n",
    "        if hasattr(self,\"ideal_count\"):\n",
    "            if self.ideal_count == 1:\n",
    "                print(f\"{self.first_name} has spoken the second ideal: {Windrunner.second_ideal}\")\n",
    "                self.ideal_count += 1\n",
    "            else:\n",
    "                print(\"You have already spoken the second ideal\")\n",
    "        else:\n",
    "            print(\"Speak the first ideal before jumping ahead\")\n",
    "    \n",
    "    @classmethod\n",
    "    def update_ideal(cls, ideal):\n",
    "        cls.first_ideal = ideal\n",
    "    \n",
    "    @classmethod\n",
    "    def from_full_name(cls, full_name):\n",
    "        first_name, last_name = full_name.split(' ')\n",
    "        return cls(first_name, last_name)\n",
    "    \n",
    "    @staticmethod\n",
    "    def swear(curse=\"Kelek's Breath\"):\n",
    "        print(curse)"
   ]
  },
  {
   "cell_type": "markdown",
   "metadata": {},
   "source": [
    "Now we want to create further types of Radiant with their own special properties. In such a situation, inheritance becomes useful. This is implemented through the use of Subclasses. Let us see how we can implement two subclasses - Windrunner and Bondsmith of class Radiant:"
   ]
  },
  {
   "cell_type": "code",
   "execution_count": null,
   "metadata": {},
   "outputs": [
    {
     "name": "stdout",
     "output_type": "stream",
     "text": [
      "Kaladin has spoken the first ideal: Life before death. Strength before weakness. Journey before destination.\n",
      "Dalinar has spoken the first ideal: Life before death. Strength before weakness. Journey before destination.\n"
     ]
    }
   ],
   "source": [
    "class Windrunner(Radiant):\n",
    "    pass\n",
    "\n",
    "class Bondsmith(Radiant):\n",
    "    pass\n",
    "\n",
    "windrunner_1 = Windrunner(\"Kaladin\", \"Stormblessed\")\n",
    "windrunner_1.speak_first_ideal()\n",
    "\n",
    "bondsmith_1 = Bondsmith(\"Dalinar\", \"Thorin\")\n",
    "bondsmith_1.speak_first_ideal()"
   ]
  },
  {
   "cell_type": "markdown",
   "metadata": {},
   "source": [
    "We see here that even with an empty subclass, an instance created with it can access all the methods and attributes of the superclass. Let us investigate the namespace of the subclasses and created instances."
   ]
  },
  {
   "cell_type": "code",
   "execution_count": null,
   "metadata": {},
   "outputs": [
    {
     "name": "stdout",
     "output_type": "stream",
     "text": [
      "Windrunner class namespace: {'__module__': '__main__', '__doc__': None}\n",
      "Bondsmith class namespace: {'__module__': '__main__', '__doc__': None}\n",
      "Kaladin namespace: {'first_name': 'Kaladin', 'last_name': 'Stormblessed', 'ideal_count': 1}\n",
      "Dalinar namespace: {'first_name': 'Dalinar', 'last_name': 'Thorin', 'ideal_count': 1}\n"
     ]
    }
   ],
   "source": [
    "print(f\"Windrunner class namespace: {Windrunner.__dict__}\")\n",
    "print(f\"Bondsmith class namespace: {Bondsmith.__dict__}\")\n",
    "print(f\"{windrunner_1.first_name} namespace: {windrunner_1.__dict__}\")\n",
    "print(f\"{bondsmith_1.first_name} namespace: {bondsmith_1.__dict__}\")"
   ]
  },
  {
   "cell_type": "markdown",
   "metadata": {},
   "source": [
    "Now let us add some methods and attributes to our Windrunner and Bondsmith classes:"
   ]
  },
  {
   "cell_type": "code",
   "execution_count": null,
   "metadata": {},
   "outputs": [],
   "source": [
    "class Windrunner(Radiant):\n",
    "    windrunner_count = 0\n",
    "    second_ideal = \"I will protect those who cannot protect themselves\"\n",
    "    def __init__(self, first_name, last_name, squire=None):\n",
    "        super().__init__(first_name, last_name)\n",
    "        self.squire_count = 0\n",
    "        if squire is None:\n",
    "            self.squires = []\n",
    "        else:\n",
    "            self.squires = [squire]\n",
    "            self.squire_count += 1\n",
    "            \n",
    "        Windrunner.windrunner_count += 1\n",
    "        \n",
    "    def select_squire(self, name):\n",
    "        print(f\"{name} is now squiring for {self.first_name}\")\n",
    "        self.squires.append(name)\n",
    "        self.squire_count += 1\n"
   ]
  },
  {
   "cell_type": "code",
   "execution_count": null,
   "metadata": {},
   "outputs": [],
   "source": [
    "class Bondsmith(Radiant):\n",
    "    bondsmith_count = 0\n",
    "    vision_count = 0\n",
    "    second_ideal = \"I will unite instead of divide. I will bring men together.\"\n",
    "    def __init__(self, first_name, last_name, spren):\n",
    "        super().__init__(first_name, last_name)\n",
    "        self.spren = spren\n",
    "        Bondsmith.bondsmith_count += 1\n",
    "        \n",
    "    def undergo_vision(self, vision):\n",
    "        print(f\"{self.first_name} had a vision of {vision}\")\n",
    "        self.vision_count += 1"
   ]
  },
  {
   "cell_type": "markdown",
   "metadata": {},
   "source": [
    "Let us now run some methods of the subclass and the superclass. Note that we have created a constructor for the subclass that itself calls the constructor of the superclass. The below two are equivalent in this situation:\n",
    "\n",
    "super().\\_\\_init\\_\\_(first\\_name, last\\_name) and   \n",
    "Employee.\\_\\_init\\_\\_(self,first\\_name, last\\_name)"
   ]
  },
  {
   "cell_type": "code",
   "execution_count": null,
   "metadata": {},
   "outputs": [
    {
     "name": "stdout",
     "output_type": "stream",
     "text": [
      "Kaladin has spoken the first ideal: Life before death. Strength before weakness. Journey before destination.\n",
      "Kaladin has spoken the second ideal: I will protect those who cannot protect themselves\n",
      "Rock is now squiring for Kaladin\n"
     ]
    },
    {
     "data": {
      "text/plain": [
       "2"
      ]
     },
     "execution_count": null,
     "metadata": {},
     "output_type": "execute_result"
    }
   ],
   "source": [
    "windrunner_1 = Windrunner(\"Kaladin\", \"Stormblessed\", \"Lopen\")\n",
    "windrunner_1.speak_first_ideal()\n",
    "windrunner_1.speak_second_ideal()\n",
    "windrunner_1.select_squire(\"Rock\")\n",
    "Windrunner.windrunner_count\n",
    "windrunner_1.squires\n",
    "windrunner_1.squire_count"
   ]
  },
  {
   "cell_type": "code",
   "execution_count": null,
   "metadata": {},
   "outputs": [
    {
     "name": "stdout",
     "output_type": "stream",
     "text": [
      "Dalinar has spoken the first ideal: Life before death. Strength before weakness. Journey before destination.\n",
      "Dalinar has spoken the second ideal: I will protect those who cannot protect themselves\n",
      "Dalinar had a vision of Recreance\n"
     ]
    }
   ],
   "source": [
    "bondsmith_1 = Bondsmith(\"Dalinar\", \"Thorin\", \"Stormfather\")\n",
    "bondsmith_1.speak_first_ideal()\n",
    "bondsmith_1.speak_second_ideal()\n",
    "bondsmith_1.undergo_vision(\"Recreance\")"
   ]
  },
  {
   "cell_type": "markdown",
   "metadata": {},
   "source": [
    "The help function can be used to further investigate a class. The method resolution order indicates how methods are searched for when they are used. For eg, here first a  method is searched in the Windrunner class, then in the super class which is Radiant and finally in the builtins.object from which all classes are derived"
   ]
  },
  {
   "cell_type": "code",
   "execution_count": null,
   "metadata": {},
   "outputs": [
    {
     "name": "stdout",
     "output_type": "stream",
     "text": [
      "Help on class Windrunner in module __main__:\n",
      "\n",
      "class Windrunner(Radiant)\n",
      " |  Windrunner(first_name, last_name, squire=None)\n",
      " |  \n",
      " |  Method resolution order:\n",
      " |      Windrunner\n",
      " |      Radiant\n",
      " |      builtins.object\n",
      " |  \n",
      " |  Methods defined here:\n",
      " |  \n",
      " |  __init__(self, first_name, last_name, squire=None)\n",
      " |      Initialize self.  See help(type(self)) for accurate signature.\n",
      " |  \n",
      " |  select_squire(self, name)\n",
      " |  \n",
      " |  ----------------------------------------------------------------------\n",
      " |  Data and other attributes defined here:\n",
      " |  \n",
      " |  second_ideal = 'I will protect those who cannot protect themselves'\n",
      " |  \n",
      " |  windrunner_count = 1\n",
      " |  \n",
      " |  ----------------------------------------------------------------------\n",
      " |  Methods inherited from Radiant:\n",
      " |  \n",
      " |  speak_first_ideal(self)\n",
      " |  \n",
      " |  speak_second_ideal(self)\n",
      " |  \n",
      " |  ----------------------------------------------------------------------\n",
      " |  Class methods inherited from Radiant:\n",
      " |  \n",
      " |  from_full_name(full_name) from builtins.type\n",
      " |  \n",
      " |  update_ideal(ideal) from builtins.type\n",
      " |  \n",
      " |  ----------------------------------------------------------------------\n",
      " |  Static methods inherited from Radiant:\n",
      " |  \n",
      " |  swear(curse=\"Kelek's Breath\")\n",
      " |  \n",
      " |  ----------------------------------------------------------------------\n",
      " |  Data descriptors inherited from Radiant:\n",
      " |  \n",
      " |  __dict__\n",
      " |      dictionary for instance variables (if defined)\n",
      " |  \n",
      " |  __weakref__\n",
      " |      list of weak references to the object (if defined)\n",
      " |  \n",
      " |  ----------------------------------------------------------------------\n",
      " |  Data and other attributes inherited from Radiant:\n",
      " |  \n",
      " |  first_ideal = 'Life before death. Strength before weakness. Journey be...\n",
      " |  \n",
      " |  num_radiants = 4\n",
      "\n",
      "None\n"
     ]
    }
   ],
   "source": [
    "#collapse_output\n",
    "print(help(Windrunner))"
   ]
  },
  {
   "cell_type": "markdown",
   "metadata": {},
   "source": [
    "Two other useful functions are isinstance and issubclass. As the names indicate, they can  be used to identify relationships between classes and instances. "
   ]
  },
  {
   "cell_type": "code",
   "execution_count": null,
   "metadata": {},
   "outputs": [
    {
     "name": "stdout",
     "output_type": "stream",
     "text": [
      "False\n",
      "True\n",
      "True\n",
      "False\n"
     ]
    }
   ],
   "source": [
    "print(isinstance(windrunner_1, Bondsmith))\n",
    "print(isinstance(windrunner_1, Windrunner))\n",
    "print(issubclass(Bondsmith, Radiant))\n",
    "print(issubclass(Bondsmith, Windrunner))"
   ]
  }
 ],
 "metadata": {
  "kernelspec": {
   "display_name": "Python 3 (ipykernel)",
   "language": "python",
   "name": "python3"
  }
 },
 "nbformat": 4,
 "nbformat_minor": 4
}
