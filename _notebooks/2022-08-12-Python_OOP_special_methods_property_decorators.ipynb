{
 "cells": [
  {
   "cell_type": "markdown",
   "metadata": {},
   "source": [
    "# Python OOP Concepts - Special Methods, Property Decorators\n",
    "\n",
    "> \"Learn Python OOP Concepts with examples\"\n",
    "- toc: true \n",
    "- badges: true\n",
    "- comments: false\n",
    "- categories: [jupyter]"
   ]
  },
  {
   "cell_type": "markdown",
   "metadata": {},
   "source": [
    "This is based on the wonderful tutorial by [Corey Schafer](https://coreyms.com/development/python/python-oop-tutorials-complete-series)\n",
    "\n",
    "This notebook is based on the [fifth](https://www.youtube.com/watch?v=3ohzBxoFHAY) and [sixth](https://www.youtube.com/watch?v=jCzT9XFZ5bw) lecture: "
   ]
  },
  {
   "cell_type": "markdown",
   "metadata": {},
   "source": [
    "## Special Methods\n",
    "Recall the class we have defined from the [last](https://dtrik.github.io/learn-python-oop/jupyter/2022/08/11/Python_OOP_inheritance.html) blog:"
   ]
  },
  {
   "cell_type": "code",
   "execution_count": null,
   "metadata": {},
   "outputs": [],
   "source": [
    "class Radiant():\n",
    "    num_radiants = 0\n",
    "    first_ideal = \"Life before death. Strength before weakness. Journey before destination.\"\n",
    "    def __init__(self, first_name, last_name):\n",
    "        self.first_name = first_name\n",
    "        self.last_name = last_name\n",
    "    \n",
    "    def speak_first_ideal(self):\n",
    "        print(f\"{self.first_name} has spoken the following ideal: {self.first_ideal}\")\n",
    "        self.ideal_count = 1\n",
    "        Radiant.num_radiants += 1"
   ]
  },
  {
   "cell_type": "markdown",
   "metadata": {},
   "source": [
    "The above class already contains a special method: the dunder init method. Typically, special methods within a class are used to enable Pythonic behaviour to instances of the class: for eg, to get elements, find length (with a different definition of length) etc.\n",
    "\n",
    "Consider what happens when we use the len() method on an instance of Radiant."
   ]
  },
  {
   "cell_type": "code",
   "execution_count": null,
   "metadata": {},
   "outputs": [
    {
     "name": "stdout",
     "output_type": "stream",
     "text": [
      "Kaladin has spoken the following ideal: Life before death. Strength before weakness. Journey before destination.\n"
     ]
    },
    {
     "ename": "TypeError",
     "evalue": "object of type 'Radiant' has no len()",
     "output_type": "error",
     "traceback": [
      "\u001b[0;31m---------------------------------------------------------------------------\u001b[0m",
      "\u001b[0;31mTypeError\u001b[0m                                 Traceback (most recent call last)",
      "\u001b[0;32m/tmp/ipykernel_36120/2604795060.py\u001b[0m in \u001b[0;36m<module>\u001b[0;34m\u001b[0m\n\u001b[1;32m      1\u001b[0m \u001b[0mradiant_1\u001b[0m \u001b[0;34m=\u001b[0m \u001b[0mRadiant\u001b[0m\u001b[0;34m(\u001b[0m\u001b[0;34m\"Kaladin\"\u001b[0m\u001b[0;34m,\u001b[0m \u001b[0;34m\"Stormblessed\"\u001b[0m\u001b[0;34m)\u001b[0m\u001b[0;34m\u001b[0m\u001b[0;34m\u001b[0m\u001b[0m\n\u001b[1;32m      2\u001b[0m \u001b[0mradiant_1\u001b[0m\u001b[0;34m.\u001b[0m\u001b[0mspeak_first_ideal\u001b[0m\u001b[0;34m(\u001b[0m\u001b[0;34m)\u001b[0m\u001b[0;34m\u001b[0m\u001b[0;34m\u001b[0m\u001b[0m\n\u001b[0;32m----> 3\u001b[0;31m \u001b[0mlen\u001b[0m\u001b[0;34m(\u001b[0m\u001b[0mradiant_1\u001b[0m\u001b[0;34m)\u001b[0m\u001b[0;34m\u001b[0m\u001b[0;34m\u001b[0m\u001b[0m\n\u001b[0m",
      "\u001b[0;31mTypeError\u001b[0m: object of type 'Radiant' has no len()"
     ]
    }
   ],
   "source": [
    "radiant_1 = Radiant(\"Kaladin\", \"Stormblessed\")\n",
    "radiant_1.speak_first_ideal()\n",
    "len(radiant_1)"
   ]
  },
  {
   "cell_type": "markdown",
   "metadata": {},
   "source": [
    "We can see that the class does not currently support len(). \n",
    "\n",
    "Let us define a len method that returns the number of ideals spoken by the instance (this is a contrived example):"
   ]
  },
  {
   "cell_type": "code",
   "execution_count": null,
   "metadata": {},
   "outputs": [],
   "source": [
    "class Radiant():\n",
    "    num_radiants = 0\n",
    "    first_ideal = \"Life before death. Strength before weakness. Journey before destination.\"\n",
    "    def __init__(self, first_name, last_name):\n",
    "        self.first_name = first_name\n",
    "        self.last_name = last_name\n",
    "    \n",
    "    def speak_first_ideal(self):\n",
    "        print(f\"{self.first_name} has spoken the following ideal: {self.first_ideal}\")\n",
    "        self.ideal_count = 1\n",
    "        Radiant.num_radiants += 1\n",
    "        \n",
    "    def __len__(self):\n",
    "        if hasattr(self, \"ideal_count\"):\n",
    "            return self.ideal_count\n",
    "        else:\n",
    "            return 0"
   ]
  },
  {
   "cell_type": "code",
   "execution_count": null,
   "metadata": {},
   "outputs": [
    {
     "name": "stdout",
     "output_type": "stream",
     "text": [
      "Kaladin has spoken 0 ideals\n"
     ]
    }
   ],
   "source": [
    "radiant_1 = Radiant(\"Kaladin\", \"Stormblessed\")\n",
    "#radiant_1.speak_first_ideal()\n",
    "print(f\"{radiant_1.first_name} has spoken {len(radiant_1)} ideals\")"
   ]
  },
  {
   "cell_type": "markdown",
   "metadata": {},
   "source": [
    "We can see that len(radiant_1) is now supported."
   ]
  },
  {
   "cell_type": "markdown",
   "metadata": {},
   "source": [
    "Other important uses of special methods are to create dunder repr and dunder str methods. Dunder repr methods are typically used for debugging and indicate how an instance has been created. Dunder str can be used for displaying our instance in a readable manner. In our class, a dunder str method can be used to display the full name of an instance. Let us see how implement both. We will use a stripped down and slightly modified version of the class."
   ]
  },
  {
   "cell_type": "code",
   "execution_count": null,
   "metadata": {},
   "outputs": [],
   "source": [
    "class Radiant():\n",
    "    def __init__(self, first_name, last_name):\n",
    "        self.first_name = first_name\n",
    "        self.last_name = last_name"
   ]
  },
  {
   "cell_type": "markdown",
   "metadata": {},
   "source": [
    "Before we implement the special methods, see what happens when we print an instance."
   ]
  },
  {
   "cell_type": "code",
   "execution_count": null,
   "metadata": {},
   "outputs": [
    {
     "name": "stdout",
     "output_type": "stream",
     "text": [
      "<__main__.Radiant object>\n"
     ]
    }
   ],
   "source": [
    "radiant_1 = Radiant(\"Kaladin\", \"Stormblessed\")\n",
    "print(radiant_1)"
   ]
  },
  {
   "cell_type": "markdown",
   "metadata": {},
   "source": [
    "Now let us include a dunder repr method and see the behaviour of print on the instance:"
   ]
  },
  {
   "cell_type": "code",
   "execution_count": null,
   "metadata": {},
   "outputs": [],
   "source": [
    "class Radiant():\n",
    "    def __init__(self, first_name, last_name):\n",
    "        self.first_name = first_name\n",
    "        self.last_name = last_name\n",
    "        \n",
    "    def __repr__(self):\n",
    "        return f\"Radiant({self.first_name}, {self.last_name})\""
   ]
  },
  {
   "cell_type": "code",
   "execution_count": null,
   "metadata": {},
   "outputs": [
    {
     "name": "stdout",
     "output_type": "stream",
     "text": [
      "Radiant(Kaladin, Stormblessed)\n"
     ]
    }
   ],
   "source": [
    "radiant_1 = Radiant(\"Kaladin\", \"Stormblessed\")\n",
    "print(radiant_1)"
   ]
  },
  {
   "cell_type": "markdown",
   "metadata": {},
   "source": [
    "We can see that print is using the dunder repr method by default. Now let us also include a dunder str method in the class"
   ]
  },
  {
   "cell_type": "code",
   "execution_count": null,
   "metadata": {},
   "outputs": [],
   "source": [
    "class Radiant():\n",
    "    def __init__(self, first_name, last_name):\n",
    "        self.first_name = first_name\n",
    "        self.last_name = last_name\n",
    "        \n",
    "    def __repr__(self):\n",
    "        return f\"Radiant({self.first_name}, {self.last_name})\"\n",
    "    \n",
    "    def __str__(self):\n",
    "        return f\"{self.first_name} {self.last_name}\""
   ]
  },
  {
   "cell_type": "code",
   "execution_count": null,
   "metadata": {},
   "outputs": [
    {
     "name": "stdout",
     "output_type": "stream",
     "text": [
      "Kaladin Stormblessed\n"
     ]
    }
   ],
   "source": [
    "radiant_1 = Radiant(\"Kaladin\", \"Stormblessed\")\n",
    "print(radiant_1)"
   ]
  },
  {
   "cell_type": "markdown",
   "metadata": {},
   "source": [
    "We see that print is now using the dunder str method. "
   ]
  },
  {
   "cell_type": "markdown",
   "metadata": {},
   "source": [
    "## Property Decorators:\n",
    "Suppose we have a fullname method in our class that displays the full name by combining the first and last names"
   ]
  },
  {
   "cell_type": "markdown",
   "metadata": {},
   "source": [
    "Consider a slightly different version of our class where first and last name are private variables that we don't want to expose to the user code. We initialize with a full name and internally it updates the first and last names like below:"
   ]
  },
  {
   "cell_type": "code",
   "execution_count": null,
   "metadata": {},
   "outputs": [],
   "source": [
    "class Radiant():\n",
    "    def __init__(self, name):\n",
    "        first, last = name.split(' ')\n",
    "        self._firstname = first\n",
    "        self._lastname = last\n",
    "\n",
    "    @property\n",
    "    def firstname(self):\n",
    "        return self._firstname\n",
    "    \n",
    "    @property\n",
    "    def lastname(self):\n",
    "        return self._lastname\n",
    "        \n",
    "    @firstname.setter\n",
    "    def firstname(self, name):\n",
    "        self._firstname = name\n",
    "\n",
    "    @lastname.setter\n",
    "    def lastname(self, name):\n",
    "        self._lastname = name.lower()"
   ]
  },
  {
   "cell_type": "markdown",
   "metadata": {},
   "source": [
    "Without exposing the actual attribute name, the user can get the first and last names as well as modify them. This is especially useful if we want to add conditional checks or modify the value while setting or deleting attributes."
   ]
  },
  {
   "cell_type": "code",
   "execution_count": null,
   "metadata": {},
   "outputs": [
    {
     "name": "stdout",
     "output_type": "stream",
     "text": [
      "thorin\n"
     ]
    }
   ],
   "source": [
    "radiant_1 = Radiant(\"Kaladin Stormblessed\")\n",
    "radiant_1.lastname = \"Thorin\"\n",
    "print(radiant_1.lastname)"
   ]
  },
  {
   "cell_type": "markdown",
   "metadata": {},
   "source": [
    "Another use case for property decorators is to make interfaces uniform. Consider the below class definition where we have a fullname method which returns the full name."
   ]
  },
  {
   "cell_type": "code",
   "execution_count": null,
   "metadata": {},
   "outputs": [],
   "source": [
    "class Radiant():\n",
    "    def __init__(self, first, last):\n",
    "        self.first = first\n",
    "        self.last = last\n",
    "    \n",
    "    def fullname(self):\n",
    "        return f\"{self.first} {self.last}\""
   ]
  },
  {
   "cell_type": "code",
   "execution_count": null,
   "metadata": {},
   "outputs": [
    {
     "name": "stdout",
     "output_type": "stream",
     "text": [
      "Kaladin\n",
      "Stormblessed\n",
      "Kaladin Stormblessed\n"
     ]
    }
   ],
   "source": [
    "radiant_1 = Radiant(\"Kaladin\", \"Stormblessed\")\n",
    "print(radiant_1.first)\n",
    "print(radiant_1.last)\n",
    "print(radiant_1.fullname())"
   ]
  },
  {
   "cell_type": "markdown",
   "metadata": {},
   "source": [
    "Here, the user might be confused by first and last being attributes while fullname being a method. To make the interface uniform, we can add a property decorator to fullname so that the method can be used as if it is an attribute."
   ]
  },
  {
   "cell_type": "code",
   "execution_count": null,
   "metadata": {},
   "outputs": [],
   "source": [
    "class Radiant():\n",
    "    def __init__(self, first, last):\n",
    "        self.first = first\n",
    "        self.last = last\n",
    "    \n",
    "    @property\n",
    "    def fullname(self):\n",
    "        return f\"{self.first} {self.last}\""
   ]
  },
  {
   "cell_type": "markdown",
   "metadata": {},
   "source": [
    "Now the three can be used by the user in a uniform manner"
   ]
  },
  {
   "cell_type": "code",
   "execution_count": null,
   "metadata": {},
   "outputs": [
    {
     "name": "stdout",
     "output_type": "stream",
     "text": [
      "Kaladin\n",
      "Stormblessed\n",
      "Kaladin Stormblessed\n"
     ]
    }
   ],
   "source": [
    "radiant_1 = Radiant(\"Kaladin\", \"Stormblessed\")\n",
    "print(radiant_1.first)\n",
    "print(radiant_1.last)\n",
    "print(radiant_1.fullname)"
   ]
  },
  {
   "cell_type": "markdown",
   "metadata": {},
   "source": [
    "With this we conclude our walk through using OOP features in Python. This is by no means an exhaustive tour and there are many important features still to be mentioned such as Abstract Base Classes, Metaclasses etc. But the topics referred here should cover a lot of what is required. \n",
    "I once again am grateful to the wonderful videos shared by Corey Schafer and hope these posts can help someone. I hasten to add that anything good is from Corey and all mistakes are mine. "
   ]
  }
 ],
 "metadata": {
  "kernelspec": {
   "display_name": "Python 3 (ipykernel)",
   "language": "python",
   "name": "python3"
  }
 },
 "nbformat": 4,
 "nbformat_minor": 4
}
