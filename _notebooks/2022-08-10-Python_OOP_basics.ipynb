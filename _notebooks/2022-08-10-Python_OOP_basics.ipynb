{
 "cells": [
  {
   "cell_type": "markdown",
   "metadata": {},
   "source": [
    "# Python OOP Concepts - Classes, Initializers and Methods\n",
    "\n",
    "> \"Learn Python OOP Concepts with examples\"\n",
    "- toc: true \n",
    "- badges: true\n",
    "- comments: false\n",
    "- categories: [jupyter]"
   ]
  },
  {
   "cell_type": "markdown",
   "metadata": {},
   "source": [
    "This is based on the wonderful tutorial by [Corey Schafer](https://coreyms.com/development/python/python-oop-tutorials-complete-series). Any errors that you see are mine.\n",
    "\n",
    "This notebook is based on the first [lecture](https://www.youtube.com/watch?v=ZDa-Z5JzLYM&t=2s): "
   ]
  },
  {
   "cell_type": "markdown",
   "metadata": {},
   "source": [
    "## Basic Class\n",
    "Below is the definition of a basic class called Radiant (Go read the Stormlight Archive by Brandon Sanderson if you are a fan of fantastic fantasy fiction):"
   ]
  },
  {
   "cell_type": "code",
   "execution_count": null,
   "metadata": {},
   "outputs": [],
   "source": [
    "class Radiant():\n",
    "    \"An empty class definition\"\n",
    "    pass"
   ]
  },
  {
   "cell_type": "code",
   "execution_count": null,
   "metadata": {},
   "outputs": [],
   "source": [
    "radiant_1 = Radiant()\n",
    "radiant_1.first_name = \"Kaladin\"\n",
    "radiant_1.last_name = \"Stormblessed\""
   ]
  },
  {
   "cell_type": "markdown",
   "metadata": {},
   "source": [
    "Here we have a created an empty class called Radiant. Then we have created an instance of the class Radiant called radiant\\_1. Finally we have assigned the 'first\\_name' and 'last\\_name' attributes of radiant\\_1 with the strings \"Kaladin\" and \"Stormblessed\" respectively."
   ]
  },
  {
   "cell_type": "code",
   "execution_count": null,
   "metadata": {},
   "outputs": [
    {
     "name": "stdout",
     "output_type": "stream",
     "text": [
      "Kaladin\n",
      "Stormblessed\n"
     ]
    }
   ],
   "source": [
    "print(radiant_1.first_name)\n",
    "print(radiant_1.last_name)"
   ]
  },
  {
   "cell_type": "markdown",
   "metadata": {},
   "source": [
    "Above, we can see that the 'first\\_name' and 'last\\_name' attributes of radiant\\_1 are now displayed as expected. Let us now create another instance of radiant called radiant\\_2 and assign the 'first\\_name' and 'last\\_name' attributes as \"Dalinar\" and \"Thorin\"."
   ]
  },
  {
   "cell_type": "code",
   "execution_count": null,
   "metadata": {},
   "outputs": [],
   "source": [
    "radiant_2 = Radiant()\n",
    "radiant_2.first_name = \"Dalinar\"\n",
    "radiant_2.last_name = \"Thorin\""
   ]
  },
  {
   "cell_type": "code",
   "execution_count": null,
   "metadata": {},
   "outputs": [
    {
     "name": "stdout",
     "output_type": "stream",
     "text": [
      "Dalinar\n",
      "Thorin\n"
     ]
    }
   ],
   "source": [
    "print(radiant_2.first_name)\n",
    "print(radiant_2.last_name)"
   ]
  },
  {
   "cell_type": "markdown",
   "metadata": {},
   "source": [
    "This is also working as expected. But we can see that there is a lot of repetition for creating each new instance of the class Radiant. To resolve this, we create a special method inside the Radiant class called an initializer."
   ]
  },
  {
   "cell_type": "markdown",
   "metadata": {},
   "source": [
    "## Class with Initializer"
   ]
  },
  {
   "cell_type": "code",
   "execution_count": null,
   "metadata": {},
   "outputs": [],
   "source": [
    "class Radiant():\n",
    "    \"Class with initializer\"\n",
    "    def __init__(self, first_name, last_name):\n",
    "        self.first_name = first_name\n",
    "        self.last_name = last_name"
   ]
  },
  {
   "cell_type": "markdown",
   "metadata": {},
   "source": [
    "The new method above is the initializer for this class. It is also referred to as a \"dunder init\" method (dunder because the method name is surrounded by double underscores). Whenever a new instance of the Radiant class is created, the initializer is called automatically if it exists. The first argument is always 'self' and it is a standard terminology that refers to the instance itself. Here we are assigning the instance's 'first\\_name' and 'last\\_name' based on the 2nd and 3rd arguments passed to it. Once an initializer (\\_\\_init\\_\\_) is available, an instance of the class can be created as shown below."
   ]
  },
  {
   "cell_type": "code",
   "execution_count": null,
   "metadata": {},
   "outputs": [
    {
     "name": "stdout",
     "output_type": "stream",
     "text": [
      "Kaladin\n",
      "Stormblessed\n"
     ]
    }
   ],
   "source": [
    "radiant_1 = Radiant(\"Kaladin\", \"Stormblessed\")\n",
    "print(radiant_1.first_name)\n",
    "print(radiant_1.last_name)"
   ]
  },
  {
   "cell_type": "markdown",
   "metadata": {},
   "source": [
    "Above, you can see that the same functionality is now available and avoids the repetitive assignment statements. Creating another instance is as simple as:"
   ]
  },
  {
   "cell_type": "code",
   "execution_count": null,
   "metadata": {},
   "outputs": [
    {
     "name": "stdout",
     "output_type": "stream",
     "text": [
      "Dalinar\n",
      "Kholin\n"
     ]
    }
   ],
   "source": [
    "radiant_2 = Radiant(\"Dalinar\", \"Kholin\")\n",
    "print(radiant_2.first_name)\n",
    "print(radiant_2.last_name)"
   ]
  },
  {
   "cell_type": "markdown",
   "metadata": {},
   "source": [
    "## Methods\n",
    "Now that we have our class Radiant, let us create a function that is specific to this class and something that each instance of the class can use. This type of function is called a method."
   ]
  },
  {
   "cell_type": "markdown",
   "metadata": {},
   "source": [
    "Each instance of the class Radiant can speak the first ideal: \"Life before death. Strength before weakness. Journey before destination.\" Let us create a method in the class to take this ideal."
   ]
  },
  {
   "cell_type": "code",
   "execution_count": null,
   "metadata": {},
   "outputs": [],
   "source": [
    "class Radiant():\n",
    "    \"Class with initializer and method\"\n",
    "    def __init__(self, first_name, last_name):\n",
    "        self.first_name = first_name\n",
    "        self.last_name = last_name\n",
    "    \n",
    "    def speak_first_ideal(self):\n",
    "        print(f\"{self.first_name} has spoken the following ideal: Life before death. Strength before weakness. Journey before destination.\")\n",
    "        self.ideal_count = 1"
   ]
  },
  {
   "cell_type": "code",
   "execution_count": null,
   "metadata": {},
   "outputs": [
    {
     "name": "stdout",
     "output_type": "stream",
     "text": [
      "Kaladin has spoken the following ideal: Life before death. Strength before weakness. Journey before destination.\n",
      "Kaladin Stormblessed has spoken 1 ideals\n"
     ]
    }
   ],
   "source": [
    "radiant_1 = Radiant(\"Kaladin\", \"Stormblessed\")\n",
    "radiant_1.speak_first_ideal()\n",
    "print(f\"{radiant_1.first_name} {radiant_1.last_name} has spoken {radiant_1.ideal_count} ideals\")"
   ]
  },
  {
   "cell_type": "markdown",
   "metadata": {},
   "source": [
    "The above method not only prints the first ideal but also updates a newly created attribute for the instance called 'ideal\\_count'. Inspired by Kaladin, Dalinar is also ready to speak the first ideal"
   ]
  },
  {
   "cell_type": "code",
   "execution_count": null,
   "metadata": {},
   "outputs": [
    {
     "name": "stdout",
     "output_type": "stream",
     "text": [
      "Dalinar has spoken the following ideal: Life before death. Strength before weakness. Journey before destination.\n",
      "Dalinar Thorin has spoken 1 ideals\n"
     ]
    }
   ],
   "source": [
    "radiant_2 = Radiant(\"Dalinar\", \"Thorin\")\n",
    "radiant_2.speak_first_ideal()\n",
    "print(f\"{radiant_2.first_name} {radiant_2.last_name} has spoken {radiant_2.ideal_count} ideals\")"
   ]
  },
  {
   "cell_type": "markdown",
   "metadata": {},
   "source": [
    "The following two are equivalent:"
   ]
  },
  {
   "cell_type": "code",
   "execution_count": null,
   "metadata": {},
   "outputs": [
    {
     "name": "stdout",
     "output_type": "stream",
     "text": [
      "Dalinar has spoken the following ideal: Life before death. Strength before weakness. Journey before destination.\n",
      "Dalinar has spoken the following ideal: Life before death. Strength before weakness. Journey before destination.\n"
     ]
    }
   ],
   "source": [
    "radiant_2.speak_first_ideal()\n",
    "Radiant.speak_first_ideal(radiant_2)"
   ]
  },
  {
   "cell_type": "markdown",
   "metadata": {},
   "source": [
    "Now that both our radiants have taken the first oath, let us continue on this in another page."
   ]
  },
  {
   "cell_type": "markdown",
   "metadata": {},
   "source": [
    "All the code is below in a single cell:"
   ]
  },
  {
   "cell_type": "code",
   "execution_count": null,
   "metadata": {},
   "outputs": [
    {
     "name": "stdout",
     "output_type": "stream",
     "text": [
      "Kaladin has spoken the following ideal: Life before death. Strength before weakness. Journey before destination.\n",
      "Kaladin Stormblessed has spoken 1 ideals\n",
      "Dalinar has spoken the following ideal: Life before death. Strength before weakness. Journey before destination.\n",
      "Dalinar Thorin has spoken 1 ideals\n"
     ]
    }
   ],
   "source": [
    "#collapse\n",
    "class Radiant():\n",
    "    \"Class with initializer and method\"\n",
    "    def __init__(self, first_name, last_name):\n",
    "        self.first_name = first_name\n",
    "        self.last_name = last_name\n",
    "    \n",
    "    def speak_first_ideal(self):\n",
    "        print(f\"{self.first_name} has spoken the following ideal: Life before death. Strength before weakness. Journey before destination.\")\n",
    "        self.ideal_count = 1\n",
    "    \n",
    "radiant_1 = Radiant(\"Kaladin\", \"Stormblessed\")\n",
    "radiant_1.speak_first_ideal()\n",
    "print(f\"{radiant_1.first_name} {radiant_1.last_name} has spoken {radiant_1.ideal_count} ideals\")\n",
    "radiant_2 = Radiant(\"Dalinar\", \"Thorin\")\n",
    "radiant_2.speak_first_ideal()\n",
    "print(f\"{radiant_2.first_name} {radiant_2.last_name} has spoken {radiant_2.ideal_count} ideals\")"
   ]
  },
  {
   "cell_type": "code",
   "execution_count": null,
   "metadata": {},
   "outputs": [],
   "source": []
  }
 ],
 "metadata": {
  "kernelspec": {
   "display_name": "Python 3 (ipykernel)",
   "language": "python",
   "name": "python3"
  }
 },
 "nbformat": 4,
 "nbformat_minor": 4
}
